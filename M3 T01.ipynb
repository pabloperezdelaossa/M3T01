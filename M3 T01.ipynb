{
 "cells": [
  {
   "cell_type": "markdown",
   "id": "12d086cb",
   "metadata": {},
   "source": [
    "## M3 T01\n",
    "### Sprint 3. \n",
    "**Programació numèrica, dataframes i anàlisi estadístic**"
   ]
  },
  {
   "cell_type": "markdown",
   "id": "9b258bb3",
   "metadata": {},
   "source": [
    "### - Exercici 1\n",
    "\n",
    "Crea una funció que donat un Array d’una dimensió, et faci un resum estadístic bàsic de les dades. Si detecta que l’array té més d’una dimensió, ha de mostrar un missatge d’error."
   ]
  },
  {
   "cell_type": "code",
   "execution_count": 8,
   "id": "935acb67",
   "metadata": {},
   "outputs": [
    {
     "name": "stdout",
     "output_type": "stream",
     "text": [
      "El array creat es:  [346 510 236 847 321 131 759 733 405   7]\n",
      "i te  1 -D dimensions\n"
     ]
    }
   ],
   "source": [
    "import numpy as np  # importem NumPy fent servir np com el seu alias\n",
    "import pandas as pd # importem Pandas fent servir pd com el seu alias\n",
    "\n",
    "def crear_array():\n",
    "    '''Aquesta funció serveix per crear una array que pot ser 1-D o 2-D, de forma aleatoria. \n",
    "    Dos de cada 3 casos tindrà 1D, l\\'altre serà de 2D'''\n",
    "    xD = np.random.randint(3)\n",
    "    if xD >= 1:\n",
    "        return np.random.randint(1000,size=(10))\n",
    "    else:\n",
    "        pass\n",
    "\n",
    "    return np.random.randint(1000,size=(10,10))\n",
    "\n",
    "array = crear_array()\n",
    "dimensions = array.ndim\n",
    "print('El array creat es: ',array)\n",
    "print('i te ',dimensions,'-D dimensions')\n"
   ]
  },
  {
   "cell_type": "code",
   "execution_count": 9,
   "id": "94ccdf18",
   "metadata": {},
   "outputs": [
    {
     "data": {
      "text/plain": [
       "array([['Màxim:', '847'],\n",
       "       ['Minim', '7'],\n",
       "       ['Range', '840'],\n",
       "       ['Mitja', '429.5'],\n",
       "       ['Mediana', '375.5'],\n",
       "       ['Desviació estàndar', '265.6811058393125'],\n",
       "       ['1er quartil', '257.25'],\n",
       "       ['2on quartil', '375.5'],\n",
       "       ['3er quartil', '677.25'],\n",
       "       ['1er decil', '118.60000000000001'],\n",
       "       ['9e decil', '767.8']], dtype='<U32')"
      ]
     },
     "execution_count": 9,
     "metadata": {},
     "output_type": "execute_result"
    }
   ],
   "source": [
    "# Resum estadístic fent servir NumPy. Es fa servir la array generada a dalt \n",
    "import numpy as np  # importem NumPy fent servir np com el seu alias\n",
    "\n",
    "def estad_amb_numpy():\n",
    "    if  array.ndim == 1:\n",
    "        '''Aquesta funció ha estat creada amb les funcions de NumPy per diferents estadístics \n",
    "        descriptius. Al següent cuadre de codi es fa el mateix fent servir Pandas'''\n",
    "        array_max = np.amax(array)\n",
    "        array_min = np.amin(array)\n",
    "        array_range = np.ptp(array)\n",
    "        array_mitja = np.mean(array)\n",
    "        array_mediana = np.nanmedian(array)\n",
    "        array_desv_estand = np.std(array)\n",
    "        array_1_quartil = np.percentile(array, 25)\n",
    "        array_2_quartil = np.percentile(array, 50)\n",
    "        array_3_quartil = np.percentile(array, 75)\n",
    "        array_1_decil = np.percentile(array, 10)\n",
    "        array_9_decil = np.percentile(array, 90)\n",
    "        estats_array =(['Màxim:','Minim','Range','Mitja','Mediana','Desviació estàndar',\n",
    "                        '1er quartil','2on quartil','3er quartil','1er decil','9e decil'],\n",
    "                   [array_max,array_min,array_range,array_mitja,array_mediana,array_desv_estand,\n",
    "                    array_1_quartil,array_2_quartil,array_3_quartil,array_1_decil,array_9_decil])\n",
    "    \n",
    "        estats_array2 = np.transpose(estats_array) # Faig una transposició per que es vegi més clar\n",
    "        return estats_array2\n",
    "    else:\n",
    "        print('Error, l\\'array te 2 dimensions. Torna a correr la funció crear_array() per tal d\\'obtenir una array d\\'una dimensió' )\n",
    "    \n",
    "\n",
    "estad_amb_numpy()\n"
   ]
  },
  {
   "cell_type": "code",
   "execution_count": 10,
   "id": "9ccb9ed7",
   "metadata": {},
   "outputs": [
    {
     "data": {
      "text/html": [
       "<div>\n",
       "<style scoped>\n",
       "    .dataframe tbody tr th:only-of-type {\n",
       "        vertical-align: middle;\n",
       "    }\n",
       "\n",
       "    .dataframe tbody tr th {\n",
       "        vertical-align: top;\n",
       "    }\n",
       "\n",
       "    .dataframe thead th {\n",
       "        text-align: right;\n",
       "    }\n",
       "</style>\n",
       "<table border=\"1\" class=\"dataframe\">\n",
       "  <thead>\n",
       "    <tr style=\"text-align: right;\">\n",
       "      <th></th>\n",
       "      <th>0</th>\n",
       "    </tr>\n",
       "  </thead>\n",
       "  <tbody>\n",
       "    <tr>\n",
       "      <th>count</th>\n",
       "      <td>10.000000</td>\n",
       "    </tr>\n",
       "    <tr>\n",
       "      <th>mean</th>\n",
       "      <td>429.500000</td>\n",
       "    </tr>\n",
       "    <tr>\n",
       "      <th>std</th>\n",
       "      <td>280.052475</td>\n",
       "    </tr>\n",
       "    <tr>\n",
       "      <th>min</th>\n",
       "      <td>7.000000</td>\n",
       "    </tr>\n",
       "    <tr>\n",
       "      <th>25%</th>\n",
       "      <td>257.250000</td>\n",
       "    </tr>\n",
       "    <tr>\n",
       "      <th>50%</th>\n",
       "      <td>375.500000</td>\n",
       "    </tr>\n",
       "    <tr>\n",
       "      <th>75%</th>\n",
       "      <td>677.250000</td>\n",
       "    </tr>\n",
       "    <tr>\n",
       "      <th>max</th>\n",
       "      <td>847.000000</td>\n",
       "    </tr>\n",
       "  </tbody>\n",
       "</table>\n",
       "</div>"
      ],
      "text/plain": [
       "                0\n",
       "count   10.000000\n",
       "mean   429.500000\n",
       "std    280.052475\n",
       "min      7.000000\n",
       "25%    257.250000\n",
       "50%    375.500000\n",
       "75%    677.250000\n",
       "max    847.000000"
      ]
     },
     "execution_count": 10,
     "metadata": {},
     "output_type": "execute_result"
    }
   ],
   "source": [
    "import numpy as np  # importem NumPy fent servir np com el seu alias\n",
    "import pandas as pd # importem Pandas fent servir pd com el seu alias\n",
    "\n",
    "def resum_estadistic():\n",
    "    '''Aquesta funcio serveix per produir un resum estadístic fent servir pandas'''\n",
    "    if array.ndim == 1:\n",
    "        array_describe = pd.DataFrame(array)\n",
    "        return array_describe.describe()\n",
    "    else:\n",
    "        print('Error, l\\'array te 2 dimensions')\n",
    "\n",
    "estadistica = resum_estadistic()\n",
    "estadistica"
   ]
  },
  {
   "cell_type": "markdown",
   "id": "e4fccf62",
   "metadata": {},
   "source": [
    "### - Exercici 2\n",
    "\n",
    "Crea una funció que et generi un quadrat NxN de nombres aleatoris entre el 0 i el 100."
   ]
  },
  {
   "cell_type": "code",
   "execution_count": 11,
   "id": "c134de78",
   "metadata": {},
   "outputs": [
    {
     "data": {
      "text/plain": [
       "array([[27, 54, 53, 88, 10, 14, 21, 98, 40],\n",
       "       [61, 85, 65, 51, 60, 77, 50, 15, 19],\n",
       "       [ 6, 76, 81,  1, 85, 47, 54, 88, 10],\n",
       "       [18,  0, 70, 57, 87, 78, 84, 28, 21],\n",
       "       [89, 14, 31, 78, 71, 78, 61,  3, 47],\n",
       "       [31, 15, 94, 31, 50, 14, 48, 37,  3],\n",
       "       [99,  0, 91, 87, 81, 52, 87, 39, 37],\n",
       "       [10, 25, 80, 57, 59, 31, 45, 36,  2],\n",
       "       [12, 78, 69, 13, 31, 92, 77, 10, 22]])"
      ]
     },
     "execution_count": 11,
     "metadata": {},
     "output_type": "execute_result"
    }
   ],
   "source": [
    "import numpy as np  # importem NumPy fent servir np com el seu alias\n",
    "from numpy import random\n",
    "\n",
    "def quadrat():\n",
    "    '''Aquesta funcio serveix per definit un cuadrat de NxN (sent N un numero aleatori entre 5 i 10)\n",
    "    i que tingui numeros entre 0 i 100'''\n",
    "    nxn = random.randint(5,11)\n",
    "    return random.randint(100,size=(nxn,nxn))\n",
    "    \n",
    "quadrat()\n"
   ]
  },
  {
   "cell_type": "markdown",
   "id": "4d83eceb",
   "metadata": {},
   "source": [
    "### - Exercici 3\n",
    "\n",
    "Crea una funció que donada una taula de dues dimensions (NxM), et calculi els totals per fila i els totals per columna."
   ]
  },
  {
   "cell_type": "code",
   "execution_count": 12,
   "id": "7f1c0c5b",
   "metadata": {},
   "outputs": [
    {
     "name": "stdout",
     "output_type": "stream",
     "text": [
      "La array es: \n",
      " [[34 49 90 92 68 27  5 34  5 43 54 70 57 10 67]\n",
      " [55 42 15 38 66 34 38 51  7 64  8 88 78 12 71]\n",
      " [40 39 15 63 28 49 58 45 10 91 81  7 63 84 14]\n",
      " [54 57 78 23 33 88 53 19 63 84 32  0 40 97  9]\n",
      " [81 37 91 45 33 81 72 17 82 24 54  3 75 65 28]\n",
      " [27 12 18 64 18 17 91 55 64 42  7 56 76 70 50]\n",
      " [24 72 55 70 87 72 61 14 87 36 61 30  9 80 51]\n",
      " [90 91 18 42 46 62 58 69 54 25 74 25 11 72 42]\n",
      " [21 69 45 64  3 91 33 62 34 63 77 86 53  6 80]\n",
      " [18 78 97 78  9 47 24 67 39 83 22 56 65 21 33]]\n",
      "La suma de totes les columnes es:  [ 88 429 317 248 322 313 225 239 216 348 306 297]\n",
      "La suma de totes les files es:  [532 550 809 580 781 434]\n"
     ]
    }
   ],
   "source": [
    "import numpy as np  # importem NumPy fent servir np com el seu alias\n",
    "from numpy import random\n",
    "\n",
    "def quadrat2():\n",
    "    '''Aquesta funcio serveix per definit un cuadrat de NxM \n",
    "    (sent N i M numeros aleatoris entre 5 i 10 i 10 i 15, respectivament)\n",
    "    i que tingui numeros entre 0 i 100'''\n",
    "    llarg_n = random.randint(5,11)\n",
    "    ample_m = random.randint(10,16)\n",
    "    return random.randint(100,size=(llarg_n,ample_m))\n",
    "    \n",
    "print('La array es: \\n',quadrat2())\n",
    "print('La suma de totes les columnes es: ',np.nansum(quadrat2(), axis=0))\n",
    "print('La suma de totes les files es: ',np.nansum(quadrat2(), axis=1))"
   ]
  },
  {
   "cell_type": "markdown",
   "id": "1a3aa891",
   "metadata": {},
   "source": [
    "### - Exercici 4\n",
    "\n",
    "Implementa manualment una funció que calculi el coeficient de correlació. Informa-te'n sobre els seus usos i interpretació."
   ]
  },
  {
   "cell_type": "code",
   "execution_count": 14,
   "id": "c9794bc6",
   "metadata": {},
   "outputs": [
    {
     "name": "stdout",
     "output_type": "stream",
     "text": [
      "[[ 1.          0.72229289  0.46802696 -0.23271408 -0.26880913  0.30454775\n",
      "   0.03197612  0.18589084  0.20195945]\n",
      " [ 0.72229289  1.          0.57611901 -0.30611269 -0.32536919  0.03730977\n",
      "   0.04285151  0.19944992 -0.14617759]\n",
      " [ 0.46802696  0.57611901  1.         -0.61470249 -0.67803559  0.0987082\n",
      "   0.50145905 -0.28686223 -0.06010656]\n",
      " [-0.23271408 -0.30611269 -0.61470249  1.          0.8446744  -0.34963625\n",
      "  -0.24772769 -0.11176021 -0.12247794]\n",
      " [-0.26880913 -0.32536919 -0.67803559  0.8446744   1.         -0.13155805\n",
      "  -0.322372    0.12724155  0.02601756]\n",
      " [ 0.30454775  0.03730977  0.0987082  -0.34963625 -0.13155805  1.\n",
      "  -0.44828447 -0.18167473 -0.03375535]\n",
      " [ 0.03197612  0.04285151  0.50145905 -0.24772769 -0.322372   -0.44828447\n",
      "   1.          0.21534565 -0.17898393]\n",
      " [ 0.18589084  0.19944992 -0.28686223 -0.11176021  0.12724155 -0.18167473\n",
      "   0.21534565  1.          0.04457264]\n",
      " [ 0.20195945 -0.14617759 -0.06010656 -0.12247794  0.02601756 -0.03375535\n",
      "  -0.17898393  0.04457264  1.        ]]\n"
     ]
    }
   ],
   "source": [
    "import numpy as np  # importem NumPy fent servir np com el seu alias\n",
    "\n",
    "print(np.corrcoef(quadrat())) # crido la funció quadrat() definida previament\n",
    "\n",
    "# El coeficient de correlacio agafa valors entre 1 (correlació positiva perfecte) i \n",
    "# -1 (correlació negativa perfecte). Si el coeficient de correlació es proper a 0\n",
    "# vol dir que no existeiz cap correlació entre les variables.'''"
   ]
  },
  {
   "cell_type": "code",
   "execution_count": null,
   "id": "56ce2174",
   "metadata": {},
   "outputs": [],
   "source": []
  }
 ],
 "metadata": {
  "kernelspec": {
   "display_name": "Python 3 (ipykernel)",
   "language": "python",
   "name": "python3"
  },
  "language_info": {
   "codemirror_mode": {
    "name": "ipython",
    "version": 3
   },
   "file_extension": ".py",
   "mimetype": "text/x-python",
   "name": "python",
   "nbconvert_exporter": "python",
   "pygments_lexer": "ipython3",
   "version": "3.9.7"
  }
 },
 "nbformat": 4,
 "nbformat_minor": 5
}
